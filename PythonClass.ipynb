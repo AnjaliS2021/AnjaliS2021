{
  "nbformat": 4,
  "nbformat_minor": 0,
  "metadata": {
    "colab": {
      "name": "PythonClass",
      "provenance": [],
      "collapsed_sections": [],
      "authorship_tag": "ABX9TyOEjC295T189uFeQw9HPnSz",
      "include_colab_link": true
    },
    "kernelspec": {
      "name": "python3",
      "display_name": "Python 3"
    },
    "language_info": {
      "name": "python"
    }
  },
  "cells": [
    {
      "cell_type": "markdown",
      "metadata": {
        "id": "view-in-github",
        "colab_type": "text"
      },
      "source": [
        "<a href=\"https://colab.research.google.com/github/AnjaliS2021/AnjaliS2021/blob/main/PythonClass.ipynb\" target=\"_parent\"><img src=\"https://colab.research.google.com/assets/colab-badge.svg\" alt=\"Open In Colab\"/></a>"
      ]
    },
    {
      "cell_type": "markdown",
      "source": [
        "HW 1"
      ],
      "metadata": {
        "id": "CAMc_4OLeSe5"
      }
    },
    {
      "cell_type": "code",
      "execution_count": null,
      "metadata": {
        "id": "_X6wwdY1Vja-"
      },
      "outputs": [],
      "source": [
        "from IPython.core.display import display_pdf\n",
        "a = \"Hello World\"\n",
        "b = \"Knock\"\n",
        "c = \"Toast\"\n",
        "print(len(a))\n",
        "print(len(b))\n",
        "print(len(c))\n",
        "print(max(a, b, c))\n",
        "\n",
        "numOne = 9\n",
        "numTwo = 17\n",
        "print(numOne + numTwo)\n",
        "\n",
        "print(type(numOne))\n",
        "print(type(numTwo))\n",
        "\n",
        "a = '15'\n",
        "b = '3'\n",
        "print(int(a)/int(b))\n",
        "\n",
        "#it should print 5\n",
        "\n",
        "print(\"The value of a is {} and the value of b is {}\".format(a, b))\n",
        "\n",
        "movies = ['Encanto', 'Civil War', 'The Parent Trap']\n",
        "print(movies)\n",
        "movies.append('Endgame')\n",
        "movies.append('Fast and Furious')\n",
        "print(movies)\n",
        "movies.remove('Encanto')\n",
        "print(movies)\n",
        "print(movies[0])\n",
        "\n",
        "A = 'Peach'\n",
        "a = 'Peach'\n",
        "if A == a:\n",
        "  print(\"A and a are the same\")\n",
        "else:\n",
        "  print(\"A and a are different\")\n",
        "\n",
        "vanillaChocolate = \"\"\"Why do people say vanilla icecream is boring?\n",
        "It is the best flavor!\n",
        "Chocolate is just too sweetand tastes weird.\"\"\"\n",
        "print(vanillaChocolate)\n",
        "\n",
        "def trial():\n",
        "  if True != False:\n",
        "    print('True')\n",
        "  else:\n",
        "     print('False')\n",
        "trial()\n",
        "\n",
        "c = 80\n",
        "d = 11\n",
        "print(c + d)\n",
        "print(c - d)\n",
        "print(c * d)\n",
        "print(c / d)\n",
        "print(c % d)\n",
        "print(c ** d)\n",
        "print( c // d)"
      ]
    },
    {
      "cell_type": "markdown",
      "source": [
        "Class1Notes"
      ],
      "metadata": {
        "id": "gWqwQhH2f8Ko"
      }
    },
    {
      "cell_type": "code",
      "source": [
        "for i in range(1, 10):\n",
        "    x  = i%2\n",
        "    if(x == 0):\n",
        "      print(str(i) + \" is even number\")"
      ],
      "metadata": {
        "id": "s58dwGwRdx1o"
      },
      "execution_count": null,
      "outputs": []
    },
    {
      "cell_type": "markdown",
      "source": [
        "Class2Homework"
      ],
      "metadata": {
        "id": "3kMidcC5f4Jz"
      }
    },
    {
      "cell_type": "code",
      "source": [
        "def classScore(grade):\n",
        "  if grade >= 89 and grade <= 100:\n",
        "    return 'A'\n",
        "  elif grade >= 70 and grade <= 88:\n",
        "    return 'B'\n",
        "  elif grade >= 51 and grade <= 69:\n",
        "    return 'C'\n",
        "  elif grade >= 30 and grade <= 46:\n",
        "    return 'D'\n",
        "  else:\n",
        "    return 'F'\n",
        "print(classScore(84))\n",
        "\n",
        "def week(d):\n",
        "  switcher = {\n",
        "      0: \"Sunday\",\n",
        "      1: \"Monday\",\n",
        "      2: \"Tuesday\",\n",
        "      3: \"Wednesday\",\n",
        "      4: \"Thursday\",\n",
        "      5: \"Friday\",\n",
        "      6: \"Saturday\"\n",
        "  }\n",
        "  return switcher.get(d)\n",
        "print(week(4))\n",
        "\n",
        "listOne = [1, 3, 5, 7, 9, 11, 15, 17]\n",
        "for i in listOne:\n",
        "  print(i)\n",
        "\n",
        "listTwo = [4, 19, 5, 7, 9]\n",
        "n = 0\n",
        "while n < len(listTwo):\n",
        "  print(listTwo[n])\n",
        "  n = n + 1\n",
        "\n",
        "listThree = [20, 40, 60, 80, 100]\n",
        "print(listThree[-1])"
      ],
      "metadata": {
        "id": "3AzMSphk-W_L"
      },
      "execution_count": null,
      "outputs": []
    },
    {
      "cell_type": "markdown",
      "source": [
        "Class3Notes"
      ],
      "metadata": {
        "id": "kDFM5LTyirJB"
      }
    },
    {
      "cell_type": "code",
      "source": [
        "print('enter first element: ')\n",
        "num1 = float(input())\n",
        "print('enter second element: ')\n",
        "num2 = int(input())\n",
        "print(type(num2))\n",
        "print(num1 + num2)\n",
        "\n",
        "def primeNumber(n):\n",
        "  num = int(input(\"enter number: \"))\n",
        "  if n <= 0:\n",
        "    return False\n",
        "  if n <= 3:\n",
        "    return True\n",
        "\n",
        "word = str(input('write something: '))\n",
        "print(len(word))\n",
        "count = 0\n",
        "for i in word:\n",
        "  count = count + 1\n",
        "print(count)\n",
        "print(word.chars(str))"
      ],
      "metadata": {
        "id": "Ko4NvGAoitnF"
      },
      "execution_count": null,
      "outputs": []
    },
    {
      "cell_type": "markdown",
      "source": [
        "Class3Homework"
      ],
      "metadata": {
        "id": "ynEEQj5TfuRx"
      }
    },
    {
      "cell_type": "code",
      "source": [
        "def evenOdd(n):\n",
        "  if n % 2 == 1:\n",
        "    print(\"odd\")\n",
        "  elif n % 2 == 0:\n",
        "    print(\"even\")\n",
        "evenOdd(15)\n",
        "\n",
        "def swapNum(a, b):\n",
        "  a = 5\n",
        "  b = 10\n",
        "  temp = a\n",
        "  a = b\n",
        "  b = temp\n",
        "  print(a, b)\n",
        "swapNum(a, b)\n",
        "\n",
        "def cube(a):\n",
        "  a = a ** 3\n",
        "  print(a)\n",
        "cube(7)\n",
        "\n",
        "#i can't figure this one out\n",
        "def fruits(**kwargs):\n",
        "  for key, value in kwargs.items():\n",
        "    print (\"%s == %s\" %(key, value))    \n",
        "fruits(apple='red', grape='green', orange='orange')\n",
        "\n",
        "value = str(input())\n",
        "def test(*args):\n",
        "  for arg in args:\n",
        "    print(arg)\n",
        "test(value)"
      ],
      "metadata": {
        "colab": {
          "base_uri": "https://localhost:8080/"
        },
        "id": "cJiDgZFbf0HH",
        "outputId": "6a95a17f-e7fe-4858-8de0-7e71887d7082"
      },
      "execution_count": 55,
      "outputs": [
        {
          "output_type": "stream",
          "name": "stdout",
          "text": [
            "odd\n",
            "10 5\n",
            "343\n",
            "apple == red\n",
            "grape == green\n",
            "orange == orange\n",
            "hi, bye, goodnight\n",
            "hi, bye, goodnight\n"
          ]
        }
      ]
    }
  ]
}