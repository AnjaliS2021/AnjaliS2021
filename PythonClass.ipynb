{
  "nbformat": 4,
  "nbformat_minor": 0,
  "metadata": {
    "colab": {
      "name": "PythonClass",
      "provenance": [],
      "collapsed_sections": [],
      "authorship_tag": "ABX9TyN0LojWqnyVs6C4mA6t3LJ4",
      "include_colab_link": true
    },
    "kernelspec": {
      "name": "python3",
      "display_name": "Python 3"
    },
    "language_info": {
      "name": "python"
    }
  },
  "cells": [
    {
      "cell_type": "markdown",
      "metadata": {
        "id": "view-in-github",
        "colab_type": "text"
      },
      "source": [
        "<a href=\"https://colab.research.google.com/github/AnjaliS2021/AnjaliS2021/blob/main/PythonClass.ipynb\" target=\"_parent\"><img src=\"https://colab.research.google.com/assets/colab-badge.svg\" alt=\"Open In Colab\"/></a>"
      ]
    },
    {
      "cell_type": "markdown",
      "source": [
        "HW 1"
      ],
      "metadata": {
        "id": "CAMc_4OLeSe5"
      }
    },
    {
      "cell_type": "code",
      "execution_count": null,
      "metadata": {
        "id": "_X6wwdY1Vja-"
      },
      "outputs": [],
      "source": [
        "from IPython.core.display import display_pdf\n",
        "a = \"Hello World\"\n",
        "b = \"Knock\"\n",
        "c = \"Toast\"\n",
        "print(len(a))\n",
        "print(len(b))\n",
        "print(len(c))\n",
        "print(max(a, b, c))\n",
        "\n",
        "numOne = 9\n",
        "numTwo = 17\n",
        "print(numOne + numTwo)\n",
        "\n",
        "print(type(numOne))\n",
        "print(type(numTwo))\n",
        "\n",
        "a = '15'\n",
        "b = '3'\n",
        "print(int(a)/int(b))\n",
        "\n",
        "#it should print 5\n",
        "\n",
        "print(\"The value of a is {} and the value of b is {}\".format(a, b))\n",
        "\n",
        "movies = ['Encanto', 'Civil War', 'The Parent Trap']\n",
        "print(movies)\n",
        "movies.append('Endgame')\n",
        "movies.append('Fast and Furious')\n",
        "print(movies)\n",
        "movies.remove('Encanto')\n",
        "print(movies)\n",
        "print(movies[0])\n",
        "\n",
        "A = 'Peach'\n",
        "a = 'Peach'\n",
        "if A == a:\n",
        "  print(\"A and a are the same\")\n",
        "else:\n",
        "  print(\"A and a are different\")\n",
        "\n",
        "vanillaChocolate = \"\"\"Why do people say vanilla icecream is boring?\n",
        "It is the best flavor!\n",
        "Chocolate is just too sweetand tastes weird.\"\"\"\n",
        "print(vanillaChocolate)\n",
        "\n",
        "def trial():\n",
        "  if True != False:\n",
        "    print('True')\n",
        "  else:\n",
        "     print('False')\n",
        "trial()\n",
        "\n",
        "c = 80\n",
        "d = 11\n",
        "print(c + d)\n",
        "print(c - d)\n",
        "print(c * d)\n",
        "print(c / d)\n",
        "print(c % d)\n",
        "print(c ** d)\n",
        "print( c // d)"
      ]
    },
    {
      "cell_type": "markdown",
      "source": [
        "Class1Notes"
      ],
      "metadata": {
        "id": "gWqwQhH2f8Ko"
      }
    },
    {
      "cell_type": "code",
      "source": [
        "for i in range(1, 10):\n",
        "    x  = i%2\n",
        "    if(x == 0):\n",
        "      print(str(i) + \" is even number\")"
      ],
      "metadata": {
        "id": "s58dwGwRdx1o"
      },
      "execution_count": null,
      "outputs": []
    },
    {
      "cell_type": "markdown",
      "source": [
        "Class2Homework"
      ],
      "metadata": {
        "id": "3kMidcC5f4Jz"
      }
    },
    {
      "cell_type": "code",
      "source": [
        "def classScore(grade):\n",
        "  if grade >= 89 and grade <= 100:\n",
        "    return 'A'\n",
        "  elif grade >= 70 and grade <= 88:\n",
        "    return 'B'\n",
        "  elif grade >= 51 and grade <= 69:\n",
        "    return 'C'\n",
        "  elif grade >= 30 and grade <= 46:\n",
        "    return 'D'\n",
        "  else:\n",
        "    return 'F'\n",
        "print(classScore(84))\n",
        "\n",
        "def week(d):\n",
        "  switcher = {\n",
        "      0: \"Sunday\",\n",
        "      1: \"Monday\",\n",
        "      2: \"Tuesday\",\n",
        "      3: \"Wednesday\",\n",
        "      4: \"Thursday\",\n",
        "      5: \"Friday\",\n",
        "      6: \"Saturday\"\n",
        "  }\n",
        "  return switcher.get(d)\n",
        "print(week(4))\n",
        "\n",
        "listOne = [1, 3, 5, 7, 9, 11, 15, 17]\n",
        "for i in listOne:\n",
        "  print(i)\n",
        "\n",
        "listTwo = [4, 19, 5, 7, 9]\n",
        "n = 0\n",
        "while n < len(listTwo):\n",
        "  print(listTwo[n])\n",
        "  n = n + 1\n",
        "\n",
        "listThree = [20, 40, 60, 80, 100]\n",
        "print(listThree[-1])"
      ],
      "metadata": {
        "id": "3AzMSphk-W_L"
      },
      "execution_count": null,
      "outputs": []
    },
    {
      "cell_type": "markdown",
      "source": [
        "Class3Notes"
      ],
      "metadata": {
        "id": "kDFM5LTyirJB"
      }
    },
    {
      "cell_type": "code",
      "source": [
        "print('enter first element: ')\n",
        "num1 = float(input())\n",
        "print('enter second element: ')\n",
        "num2 = int(input())\n",
        "print(type(num2))\n",
        "print(num1 + num2)\n",
        "\n",
        "def primeNumber(n):\n",
        "  num = int(input(\"enter number: \"))\n",
        "  if n <= 0:\n",
        "    return False\n",
        "  if n <= 3:\n",
        "    return True\n",
        "\n",
        "word = str(input('write something: '))\n",
        "print(len(word))\n",
        "count = 0\n",
        "for i in word:\n",
        "  count = count + 1\n",
        "print(count)\n",
        "print(word.chars(str))"
      ],
      "metadata": {
        "id": "Ko4NvGAoitnF"
      },
      "execution_count": null,
      "outputs": []
    },
    {
      "cell_type": "markdown",
      "source": [
        "Class3Homework"
      ],
      "metadata": {
        "id": "ynEEQj5TfuRx"
      }
    },
    {
      "cell_type": "code",
      "source": [
        "def evenOdd(n):\n",
        "  if n % 2 == 1:\n",
        "    print(\"odd\")\n",
        "  elif n % 2 == 0:\n",
        "    print(\"even\")\n",
        "evenOdd(15)\n",
        "\n",
        "def swapNum(a, b):\n",
        "  # a = 5\n",
        "  # b = 10\n",
        "  temp = a\n",
        "  a = b\n",
        "  b = temp\n",
        "  return(a, b)\n",
        "a, b = swapNum(7, 11)\n",
        "print(a, b)\n",
        "\n",
        "def cube(a):\n",
        "  a = a ** 3\n",
        "  print(a)\n",
        "cube(7)\n",
        "\n",
        "def fruits(**kwargs):\n",
        "  print(kwargs)\n",
        "  for k, v in kwargs.items():\n",
        "    print(k, v)\n",
        "#   for key, value in kwargs.items():\n",
        "#     print (\"%s == %s\" %(key, value))    \n",
        "fruits(apple='red', grape='green', orange='orange')\n",
        "\n",
        "value = input()\n",
        "def test(*args):\n",
        "  for arg in args:\n",
        "    print(arg)\n",
        "test(value)"
      ],
      "metadata": {
        "id": "cJiDgZFbf0HH"
      },
      "execution_count": null,
      "outputs": []
    },
    {
      "cell_type": "markdown",
      "source": [
        "Class4Notes"
      ],
      "metadata": {
        "id": "0FXHDbqrvMwo"
      }
    },
    {
      "cell_type": "code",
      "source": [
        "list1 = ['sunday', 'monday']\n",
        "tuple1 = ('sunday', 'monday')\n",
        "\n",
        "list1.append('tuesday')\n",
        "print(list1)\n",
        "list1.remove('sunday')\n",
        "print(list1)\n",
        "\n",
        "for tup in tuple1:\n",
        "  print(tup)\n",
        "\n",
        "dict1 = {'day1':1, 'day2':'monday'}\n",
        "print(dict1)\n",
        "\n",
        "print(dict1.keys())\n",
        "print(dict1.values())\n",
        "for k,v in dict1.items():\n",
        "  print(k,v)\n",
        "\n",
        "wordDefinition = {\n",
        "    'the renaissance': 'period in European history',\n",
        "    'fox': 'a carnivorous mammal',\n",
        "    'raincoat': 'water-resistant fabric'\n",
        "    }\n",
        "for k, v in wordDefinition.items():\n",
        "  if k == 'fox':\n",
        "    print(v)\n",
        "\n",
        "def definitionTime(word):\n",
        "  wordDefinition = {\n",
        "    'the renaissance': 'period in European history',\n",
        "    'fox': 'a carnivorous mammal',\n",
        "    'raincoat': 'water-resistant fabric'\n",
        "    }\n",
        "  for k, v in wordDefinition.items():\n",
        "    if k == 'fox':\n",
        "      return v\n",
        "      \n",
        "meaning = definitionTime('fox')\n",
        "print(meaning)"
      ],
      "metadata": {
        "id": "J-dBum15vPKp"
      },
      "execution_count": null,
      "outputs": []
    },
    {
      "cell_type": "markdown",
      "source": [
        "Class4Homework"
      ],
      "metadata": {
        "id": "lpoki0o8__NC"
      }
    },
    {
      "cell_type": "code",
      "source": [
        "# alphabet = {\"z\":26, \"v\":22, \"u\":21, \"t\":20, \"g\":7, \"c\":3} \n",
        "# alphaOrder = alphabet.items()\n",
        "# newOrder = sorted(alphaOrder)\n",
        "# print(newOrder)\n",
        "\n",
        "words = [\"w\",\"wo\",\"wor\", \"world1\", \"worl\",\"world123\"] \n",
        "# longestWord = words[0]\n",
        "# if len(words[0]) < len(words[1]):\n",
        "#   longestWord = words[1]\n",
        "# if len(words[1]) < len(words[2]):\n",
        "#   longestWord = words[2]\n",
        "# if len(words[2]) < len(words[3]):\n",
        "#   longestWord = words[3]\n",
        "# if len(words[3]) < len(words[4]):\n",
        "#   longestWord = words[4]\n",
        "# print(longestWord)\n",
        "\n",
        "def longestWord(wordList):\n",
        "  wordLength = 0\n",
        "  wordName = \"\"\n",
        "  for word in wordList:\n",
        "    if len(word) > wordLength:\n",
        "      wordLength = len(word)\n",
        "      wordName = word\n",
        "  return word\n",
        "word = longestWord(words)\n",
        "print(\"Longest word is:\", word)\n",
        "\n",
        "\n",
        "keyValue = {2:'64', 1:'69', 4:'23', 5:'65', 6:'34', 3:'76'}\n",
        "def sortDictionary(dictionary):\n",
        "  for key in dictionary.keys():\n",
        "    print(key) \n",
        "  return sorted((key, value) for key, value in dictionary.items())\n",
        "\n",
        "sortedDict = sortDictionary(keyValue)\n",
        "print(sortedDict)\n",
        "\n",
        "\n",
        "def colors(**kwargs):\n",
        "  print(kwargs)\n",
        "  for k, v in kwargs.items():\n",
        "    print(k, v)  \n",
        "colors(r='red', o='orange', y='yellow', g='green')\n",
        "\n",
        "def tupleTest(number):\n",
        "  tuple1 = ('one', 'two', 'three')\n",
        "  for tup in tuple1:\n",
        "    print(tup)\n",
        "    if len(tuple1) >= 0:\n",
        "      return tup\n",
        "num = tupleTest('one')\n",
        "print(num)"
      ],
      "metadata": {
        "id": "3C4XCjC6ADUa"
      },
      "execution_count": null,
      "outputs": []
    },
    {
      "cell_type": "markdown",
      "source": [
        "Class5Notes"
      ],
      "metadata": {
        "id": "rXxwBRA1Daxe"
      }
    },
    {
      "cell_type": "code",
      "source": [
        "def longestWord(wordList):\n",
        "  wordLength = 0\n",
        "  wordName = \"\"\n",
        "  for word in wordList:\n",
        "    print(\"index is: \", wordList.index(word))\n",
        "    print(word)\n",
        "    print(len(word))\n",
        "    if len(word) > wordLength:\n",
        "      wordLength = len(word)\n",
        "      wordName = word\n",
        "  return wordName\n",
        "word = longestWord(words)\n",
        "print(\"Longest word is:\", word)\n",
        "\n",
        "keyValue = {2:64, 1:69, 4:23, 5:65, 6:34, 3:76}\n",
        "keyOrder = keyValue.items()\n",
        "newOrder = sorted(keyOrder)\n",
        "print(newOrder)"
      ],
      "metadata": {
        "id": "RNueZzQDDc05"
      },
      "execution_count": null,
      "outputs": []
    },
    {
      "cell_type": "markdown",
      "source": [
        "Class5Homework"
      ],
      "metadata": {
        "id": "h7jq9cfG6dtj"
      }
    },
    {
      "cell_type": "code",
      "source": [
        "dict1 = {'CA':'California', 'WA':'Washington State'}\n",
        "dict2 = {'day1':'Sunday', 'day2':'Monday', 'day3':'Tuesday', 'day4':'Wednesday'}\n",
        "dict1['TX'] = 'Texas'\n",
        "dict1['WY'] = 'Wyoming'\n",
        "print(dict1)\n",
        "\n",
        "dict2.pop('day2')\n",
        "del dict2['day3']\n",
        "print(dict2)\n",
        "\n",
        "dict1.update(dict2)\n",
        "print(dict1)\n",
        "\n",
        "dict4 = {'lemon':'yellow', 'tomato':'red', 'cucumber':'green'}\n",
        "dict4['carrot'] = 'orange'\n",
        "dict4['carrot'] = 'orange'\n",
        "print(dict4)\n",
        "#there is no error, it just gets added once\n",
        "\n",
        "def avg(lists):\n",
        "    for i in lists:\n",
        "        aver = 0\n",
        "        for num in i:\n",
        "            aver += num \n",
        "        aver = aver / len(i)\n",
        "        print(aver)\n",
        "\n",
        "lists = [[95,92,86,87]] \n",
        "avg(lists)\n",
        "\n",
        "list1 = [2, 4, 6, 3, 9, 11]\n",
        "list1 = list1[::-1]\n",
        "print(list1)\n",
        "\n",
        "totalSum = sum(list1)\n",
        "print(totalSum)"
      ],
      "metadata": {
        "id": "-CPjnJta6fN6"
      },
      "execution_count": null,
      "outputs": []
    }
  ]
}