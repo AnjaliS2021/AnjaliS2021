{
  "nbformat": 4,
  "nbformat_minor": 0,
  "metadata": {
    "colab": {
      "name": "PythonClass",
      "provenance": [],
      "collapsed_sections": [],
      "authorship_tag": "ABX9TyMf/xPmR0pV99PU2eCIP1BJ",
      "include_colab_link": true
    },
    "kernelspec": {
      "name": "python3",
      "display_name": "Python 3"
    },
    "language_info": {
      "name": "python"
    }
  },
  "cells": [
    {
      "cell_type": "markdown",
      "metadata": {
        "id": "view-in-github",
        "colab_type": "text"
      },
      "source": [
        "<a href=\"https://colab.research.google.com/github/AnjaliS2021/AnjaliS2021/blob/main/PythonClass2%2B3.ipynb\" target=\"_parent\"><img src=\"https://colab.research.google.com/assets/colab-badge.svg\" alt=\"Open In Colab\"/></a>"
      ]
    },
    {
      "cell_type": "markdown",
      "source": [
        "HW 1"
      ],
      "metadata": {
        "id": "CAMc_4OLeSe5"
      }
    },
    {
      "cell_type": "code",
      "execution_count": null,
      "metadata": {
        "id": "_X6wwdY1Vja-"
      },
      "outputs": [],
      "source": [
        "from IPython.core.display import display_pdf\n",
        "a = \"Hello World\"\n",
        "b = \"Knock\"\n",
        "c = \"Toast\"\n",
        "print(len(a))\n",
        "print(len(b))\n",
        "print(len(c))\n",
        "print(max(a, b, c))\n",
        "\n",
        "numOne = 9\n",
        "numTwo = 17\n",
        "print(numOne + numTwo)\n",
        "\n",
        "print(type(numOne))\n",
        "print(type(numTwo))\n",
        "\n",
        "a = '15'\n",
        "b = '3'\n",
        "print(int(a)/int(b))\n",
        "\n",
        "#it should print 5\n",
        "\n",
        "print(\"The value of a is {} and the value of b is {}\".format(a, b))\n",
        "\n",
        "movies = ['Encanto', 'Civil War', 'The Parent Trap']\n",
        "print(movies)\n",
        "movies.append('Endgame')\n",
        "movies.append('Fast and Furious')\n",
        "print(movies)\n",
        "movies.remove('Encanto')\n",
        "print(movies)\n",
        "print(movies[0])\n",
        "\n",
        "A = 'Peach'\n",
        "a = 'Peach'\n",
        "if A == a:\n",
        "  print(\"A and a are the same\")\n",
        "else:\n",
        "  print(\"A and a are different\")\n",
        "\n",
        "vanillaChocolate = \"\"\"Why do people say vanilla icecream is boring?\n",
        "It is the best flavor!\n",
        "Chocolate is just too sweetand tastes weird.\"\"\"\n",
        "print(vanillaChocolate)\n",
        "\n",
        "def trial():\n",
        "  if True != False:\n",
        "    print('True')\n",
        "  else:\n",
        "     print('False')\n",
        "trial()\n",
        "\n",
        "c = 80\n",
        "d = 11\n",
        "print(c + d)\n",
        "print(c - d)\n",
        "print(c * d)\n",
        "print(c / d)\n",
        "print(c % d)\n",
        "print(c ** d)\n",
        "print( c // d)"
      ]
    },
    {
      "cell_type": "code",
      "source": [
        "for i in range(1, 10):\n",
        "    x  = i%2\n",
        "    if(x == 0):\n",
        "      print(str(i) + \" is even number\")"
      ],
      "metadata": {
        "id": "s58dwGwRdx1o"
      },
      "execution_count": null,
      "outputs": []
    },
    {
      "cell_type": "code",
      "source": [
        "def classScore(grade):\n",
        "  if grade >= 89 and grade <= 100:\n",
        "    return 'A'\n",
        "  elif grade >= 70 and grade <= 88:\n",
        "    return 'B'\n",
        "  elif grade >= 51 and grade <= 69:\n",
        "    return 'C'\n",
        "  elif grade >= 30 and grade <= 46:\n",
        "    return 'D'\n",
        "  else:\n",
        "    return 'F'\n",
        "print(classScore(84))\n",
        "\n",
        "def week(d):\n",
        "  switcher = {\n",
        "      0: \"Sunday\",\n",
        "      1: \"Monday\",\n",
        "      2: \"Tuesday\",\n",
        "      3: \"Wednesday\",\n",
        "      4: \"Thursday\",\n",
        "      5: \"Friday\",\n",
        "      6: \"Saturday\"\n",
        "  }\n",
        "  return switcher.get(d)\n",
        "print(week(4))\n",
        "\n",
        "listOne = [1, 3, 5, 7, 9, 11, 15, 17]\n",
        "for i in listOne:\n",
        "  print(i)\n",
        "\n",
        "listTwo = [4, 19, 5, 7, 9]\n",
        "n = 0\n",
        "while n < len(listTwo):\n",
        "  print(listTwo[n])\n",
        "  n = n + 1\n",
        "\n",
        "listThree = [20, 40, 60, 80, 100]\n",
        "print(listThree[-1])"
      ],
      "metadata": {
        "id": "3AzMSphk-W_L"
      },
      "execution_count": null,
      "outputs": []
    },
    {
      "cell_type": "markdown",
      "source": [
        "Class3Notes"
      ],
      "metadata": {
        "id": "kDFM5LTyirJB"
      }
    },
    {
      "cell_type": "code",
      "source": [
        "# print('enter first element: ')\n",
        "# num1 = float(input())\n",
        "# print('enter second element: ')\n",
        "# num2 = int(input())\n",
        "# print(type(num2))\n",
        "# print(num1 + num2)\n",
        "\n",
        "# def primeNumber(n):\n",
        "#   num = int(input(\"enter number: \"))\n",
        "#   if n <= 0:\n",
        "#     return False\n",
        "#   if n <= 3:\n",
        "#     return True\n",
        "\n",
        "word = str(input('write something: '))\n",
        "print(len(word))\n",
        "count = 0\n",
        "for i in word:\n",
        "  count = count + 1\n",
        "print(count)\n",
        "print(word.chars(str))"
      ],
      "metadata": {
        "colab": {
          "base_uri": "https://localhost:8080/",
          "height": 259
        },
        "id": "Ko4NvGAoitnF",
        "outputId": "67fdcd72-efbc-4aa1-e471-4d45249708c2"
      },
      "execution_count": 34,
      "outputs": [
        {
          "output_type": "stream",
          "name": "stdout",
          "text": [
            "write something: hello\n",
            "5\n",
            "5\n"
          ]
        },
        {
          "output_type": "error",
          "ename": "AttributeError",
          "evalue": "ignored",
          "traceback": [
            "\u001b[0;31m---------------------------------------------------------------------------\u001b[0m",
            "\u001b[0;31mAttributeError\u001b[0m                            Traceback (most recent call last)",
            "\u001b[0;32m<ipython-input-34-049509bfb45e>\u001b[0m in \u001b[0;36m<module>\u001b[0;34m()\u001b[0m\n\u001b[1;32m     19\u001b[0m   \u001b[0mcount\u001b[0m \u001b[0;34m=\u001b[0m \u001b[0mcount\u001b[0m \u001b[0;34m+\u001b[0m \u001b[0;36m1\u001b[0m\u001b[0;34m\u001b[0m\u001b[0;34m\u001b[0m\u001b[0m\n\u001b[1;32m     20\u001b[0m \u001b[0mprint\u001b[0m\u001b[0;34m(\u001b[0m\u001b[0mcount\u001b[0m\u001b[0;34m)\u001b[0m\u001b[0;34m\u001b[0m\u001b[0;34m\u001b[0m\u001b[0m\n\u001b[0;32m---> 21\u001b[0;31m \u001b[0mprint\u001b[0m\u001b[0;34m(\u001b[0m\u001b[0mword\u001b[0m\u001b[0;34m.\u001b[0m\u001b[0mchars\u001b[0m\u001b[0;34m(\u001b[0m\u001b[0mstr\u001b[0m\u001b[0;34m)\u001b[0m\u001b[0;34m)\u001b[0m\u001b[0;34m\u001b[0m\u001b[0;34m\u001b[0m\u001b[0m\n\u001b[0m",
            "\u001b[0;31mAttributeError\u001b[0m: 'str' object has no attribute 'chars'"
          ]
        }
      ]
    }
  ]
}